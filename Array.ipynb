{
 "cells": [
  {
   "cell_type": "markdown",
   "id": "e82bb6d7",
   "metadata": {},
   "source": [
    "## Necessasary Data structure: Array"
   ]
  },
  {
   "cell_type": "markdown",
   "id": "5ff69aa9",
   "metadata": {},
   "source": [
    "- A data structure that lists data and configures each data to correspond to an index.\n",
    "- Python provides Array structure as a list type."
   ]
  },
  {
   "cell_type": "markdown",
   "id": "b4ce140c",
   "metadata": {},
   "source": [
    "## 1. Why Array is needed.\n",
    "\n",
    "- For efficient management of the same type of data\n",
    "- Store the same kind of data sequentially"
   ]
  },
  {
   "cell_type": "markdown",
   "id": "b0045ca8",
   "metadata": {},
   "source": [
    "- advantage of array : \n",
    "    - Quick Access\n",
    "- Weakness of array :\n",
    "    - Add/delete is not easy"
   ]
  },
  {
   "cell_type": "markdown",
   "id": "79557a50",
   "metadata": {},
   "source": [
    "## 2.파이썬과 C 언어의 배열 예제"
   ]
  },
  {
   "cell_type": "code",
   "execution_count": 3,
   "id": "865d57ab",
   "metadata": {},
   "outputs": [
    {
     "ename": "SyntaxError",
     "evalue": "invalid syntax (2942018347.py, line 3)",
     "output_type": "error",
     "traceback": [
      "\u001b[1;36m  File \u001b[1;32m\"C:\\Users\\jiseo\\AppData\\Local\\Temp\\ipykernel_13524\\2942018347.py\"\u001b[1;36m, line \u001b[1;32m3\u001b[0m\n\u001b[1;33m    int main(int argc, char*argv[]) {\u001b[0m\n\u001b[1;37m        ^\u001b[0m\n\u001b[1;31mSyntaxError\u001b[0m\u001b[1;31m:\u001b[0m invalid syntax\n"
     ]
    }
   ],
   "source": [
    "#include <stdio.h>\n",
    "\n",
    "int main(int argc, char*argv[]) {\n",
    "    char country[3] = \"US\";\n",
    "    print(\"%C%C\\n\",country[0], country[1]);\n",
    "    print(\"%s\\n\", country);\n",
    "    \n",
    "    return 0;\n",
    "}\n"
   ]
  },
  {
   "cell_type": "code",
   "execution_count": 2,
   "id": "0e335cb0",
   "metadata": {},
   "outputs": [
    {
     "name": "stdout",
     "output_type": "stream",
     "text": [
      "US\n",
      "USA\n"
     ]
    }
   ],
   "source": [
    "country = \"US\"\n",
    "print(country)\n",
    "\n",
    "country += \"A\"\n",
    "print(country)"
   ]
  },
  {
   "cell_type": "markdown",
   "id": "ea2d0a3f",
   "metadata": {},
   "source": [
    "## 3.Python and Array\n",
    "- Utilization of Python List"
   ]
  },
  {
   "cell_type": "code",
   "execution_count": 4,
   "id": "804a81fe",
   "metadata": {},
   "outputs": [
    {
     "data": {
      "text/plain": [
       "[1, 2, 3, 4, 5]"
      ]
     },
     "execution_count": 4,
     "metadata": {},
     "output_type": "execute_result"
    }
   ],
   "source": [
    "# Basic Array\n",
    "data = [1, 2, 3, 4, 5]\n",
    "data"
   ]
  },
  {
   "cell_type": "code",
   "execution_count": 5,
   "id": "1b1273d0",
   "metadata": {},
   "outputs": [
    {
     "data": {
      "text/plain": [
       "[[1, 2, 3], [3, 4, 5]]"
      ]
     },
     "execution_count": 5,
     "metadata": {},
     "output_type": "execute_result"
    }
   ],
   "source": [
    "# Dimensional Array\n",
    "data = [[1,2,3],[3,4,5]]\n",
    "data"
   ]
  },
  {
   "cell_type": "code",
   "execution_count": null,
   "id": "3920e801",
   "metadata": {},
   "outputs": [],
   "source": []
  },
  {
   "cell_type": "code",
   "execution_count": null,
   "id": "1d683898",
   "metadata": {},
   "outputs": [],
   "source": []
  },
  {
   "cell_type": "code",
   "execution_count": null,
   "id": "e2199452",
   "metadata": {},
   "outputs": [],
   "source": []
  },
  {
   "cell_type": "code",
   "execution_count": null,
   "id": "b64e48bf",
   "metadata": {},
   "outputs": [],
   "source": []
  },
  {
   "cell_type": "code",
   "execution_count": null,
   "id": "0edb2f5b",
   "metadata": {},
   "outputs": [],
   "source": []
  }
 ],
 "metadata": {
  "kernelspec": {
   "display_name": "Python 3 (ipykernel)",
   "language": "python",
   "name": "python3"
  },
  "language_info": {
   "codemirror_mode": {
    "name": "ipython",
    "version": 3
   },
   "file_extension": ".py",
   "mimetype": "text/x-python",
   "name": "python",
   "nbconvert_exporter": "python",
   "pygments_lexer": "ipython3",
   "version": "3.9.13"
  }
 },
 "nbformat": 4,
 "nbformat_minor": 5
}
